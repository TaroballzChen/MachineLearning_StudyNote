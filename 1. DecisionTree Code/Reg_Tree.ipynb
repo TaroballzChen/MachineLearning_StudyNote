{
 "cells": [
  {
   "cell_type": "code",
   "execution_count": 49,
   "metadata": {},
   "outputs": [],
   "source": [
    "from sklearn.tree import DecisionTreeRegressor\n",
    "import numpy as np\n",
    "import matplotlib.pyplot as plt"
   ]
  },
  {
   "cell_type": "code",
   "execution_count": 50,
   "metadata": {},
   "outputs": [],
   "source": [
    "#設置隨機數種子，固定值表示只有固定的隨機模式\n",
    "rng = np.random.RandomState(1)"
   ]
  },
  {
   "cell_type": "code",
   "execution_count": 51,
   "metadata": {},
   "outputs": [
    {
     "data": {
      "text/plain": [
       "array([[5.71874087e-04],\n",
       "       [9.14413867e-02],\n",
       "       [9.68347894e-02],\n",
       "       [1.36937966e-01],\n",
       "       [1.95273916e-01],\n",
       "       [2.49767295e-01],\n",
       "       [2.66812726e-01],\n",
       "       [4.25221057e-01],\n",
       "       [4.61692974e-01],\n",
       "       [4.91734169e-01],\n",
       "       [5.11672144e-01],\n",
       "       [5.16130033e-01],\n",
       "       [6.50142861e-01],\n",
       "       [6.87373521e-01],\n",
       "       [6.96381736e-01],\n",
       "       [7.01934693e-01],\n",
       "       [7.33642875e-01],\n",
       "       [7.33779454e-01],\n",
       "       [8.26770986e-01],\n",
       "       [8.49152098e-01],\n",
       "       [9.31301057e-01],\n",
       "       [9.90507445e-01],\n",
       "       [1.02226125e+00],\n",
       "       [1.05814058e+00],\n",
       "       [1.32773330e+00],\n",
       "       [1.40221996e+00],\n",
       "       [1.43887669e+00],\n",
       "       [1.46807074e+00],\n",
       "       [1.51166286e+00],\n",
       "       [1.56712089e+00],\n",
       "       [1.57757816e+00],\n",
       "       [1.72780364e+00],\n",
       "       [1.73882930e+00],\n",
       "       [1.98383737e+00],\n",
       "       [1.98838418e+00],\n",
       "       [2.07027994e+00],\n",
       "       [2.07089635e+00],\n",
       "       [2.08511002e+00],\n",
       "       [2.08652401e+00],\n",
       "       [2.09597257e+00],\n",
       "       [2.10553813e+00],\n",
       "       [2.23946763e+00],\n",
       "       [2.45786580e+00],\n",
       "       [2.57444556e+00],\n",
       "       [2.66582642e+00],\n",
       "       [2.67948203e+00],\n",
       "       [2.69408367e+00],\n",
       "       [2.79344914e+00],\n",
       "       [2.87058803e+00],\n",
       "       [2.93277520e+00],\n",
       "       [2.94652768e+00],\n",
       "       [3.31897323e+00],\n",
       "       [3.35233755e+00],\n",
       "       [3.39417766e+00],\n",
       "       [3.42609750e+00],\n",
       "       [3.43250464e+00],\n",
       "       [3.45938557e+00],\n",
       "       [3.46161308e+00],\n",
       "       [3.47200079e+00],\n",
       "       [3.49879180e+00],\n",
       "       [3.60162247e+00],\n",
       "       [3.62998993e+00],\n",
       "       [3.74082827e+00],\n",
       "       [3.75072157e+00],\n",
       "       [3.75406052e+00],\n",
       "       [3.94639664e+00],\n",
       "       [4.00372284e+00],\n",
       "       [4.03695644e+00],\n",
       "       [4.17312836e+00],\n",
       "       [4.38194576e+00],\n",
       "       [4.39058718e+00],\n",
       "       [4.39071252e+00],\n",
       "       [4.47303332e+00],\n",
       "       [4.51700958e+00],\n",
       "       [4.54297752e+00],\n",
       "       [4.63754290e+00],\n",
       "       [4.72297378e+00],\n",
       "       [4.78944765e+00],\n",
       "       [4.84130788e+00],\n",
       "       [4.94430544e+00]])"
      ]
     },
     "execution_count": 51,
     "metadata": {},
     "output_type": "execute_result"
    }
   ],
   "source": [
    "#生成 80行1列 從0-5之間的隨機數 ， 並按行（axis=0）進行排序\n",
    "X = np.sort(5 * rng.rand(80,1),axis=0 )\n",
    "X"
   ]
  },
  {
   "cell_type": "code",
   "execution_count": 52,
   "metadata": {},
   "outputs": [
    {
     "data": {
      "text/plain": [
       "array([ 5.71874056e-04,  9.13140084e-02,  9.66835240e-02,  1.36510390e-01,\n",
       "        1.94035253e-01,  2.47178482e-01,  2.63658285e-01,  4.12522163e-01,\n",
       "        4.45464463e-01,  4.72155294e-01,  4.89635918e-01,  4.93517994e-01,\n",
       "        6.05300129e-01,  6.34509327e-01,  6.41446076e-01,  6.45696215e-01,\n",
       "        6.69579781e-01,  6.69681218e-01,  7.35748344e-01,  7.50720534e-01,\n",
       "        8.02397078e-01,  8.36304301e-01,  8.53289303e-01,  8.71444956e-01,\n",
       "        9.70605329e-01,  9.85824622e-01,  9.91311217e-01,  9.94728365e-01,\n",
       "        9.98252126e-01,  9.99993246e-01,  9.99977003e-01,  9.87699652e-01,\n",
       "        9.85915646e-01,  9.15904395e-01,  9.14069859e-01,  8.77830014e-01,\n",
       "        8.77534605e-01,  8.70630546e-01,  8.69934082e-01,  8.65235592e-01,\n",
       "        8.60400242e-01,  7.84646075e-01,  6.31686553e-01,  5.37227991e-01,\n",
       "        4.58019714e-01,  4.45838347e-01,  4.32721158e-01,  3.41153283e-01,\n",
       "        2.67699531e-01,  2.07303185e-01,  1.93830272e-01, -1.76451855e-01,\n",
       "       -2.09188375e-01, -2.49907779e-01, -2.80682239e-01, -2.86826010e-01,\n",
       "       -3.12470754e-01, -3.14585948e-01, -3.24429114e-01, -3.49651545e-01,\n",
       "       -4.43974821e-01, -4.69211146e-01, -5.64011437e-01, -5.72153265e-01,\n",
       "       -5.74888492e-01, -7.20694771e-01, -7.59230658e-01, -7.80436587e-01,\n",
       "       -8.58088588e-01, -9.45898629e-01, -9.48667092e-01, -9.48706725e-01,\n",
       "       -9.71490934e-01, -9.80974083e-01, -9.85684166e-01, -9.97200340e-01,\n",
       "       -9.99943982e-01, -9.97032450e-01, -9.91701462e-01, -9.73227696e-01])"
      ]
     },
     "execution_count": 52,
     "metadata": {},
     "output_type": "execute_result"
    }
   ],
   "source": [
    "# .ravel()進行降維成一維列表，用於作為target\n",
    "# .ravel()降成 n-1 維\n",
    "y = np.sin(X).ravel()\n",
    "y"
   ]
  },
  {
   "cell_type": "code",
   "execution_count": 53,
   "metadata": {},
   "outputs": [
    {
     "data": {
      "image/png": "[encoded data removed]",
      "text/plain": [
       "<Figure size 432x288 with 1 Axes>"
      ]
     },
     "metadata": {
      "needs_background": "light"
     },
     "output_type": "display_data"
    }
   ],
   "source": [
    "plt.scatter(X,y,s=20,edgecolor=\"black\",c=\"darkorange\",label=\"data\")\n",
    "plt.legend()\n",
    "plt.show()"
   ]
  },
  {
   "cell_type": "code",
   "execution_count": 54,
   "metadata": {},
   "outputs": [],
   "source": [
    "#添加數據噪聲\n",
    "#將y值加上或減去一個隨機數\n",
    "y[::5] += 3*(0.5-rng.rand(16))"
   ]
  },
  {
   "cell_type": "code",
   "execution_count": 55,
   "metadata": {},
   "outputs": [
    {
     "data": {
      "text/plain": [
       "array([-1.1493464 ,  0.09131401,  0.09668352,  0.13651039,  0.19403525,\n",
       "       -0.12383814,  0.26365828,  0.41252216,  0.44546446,  0.47215529,\n",
       "       -0.26319138,  0.49351799,  0.60530013,  0.63450933,  0.64144608,\n",
       "        1.09900119,  0.66957978,  0.66968122,  0.73574834,  0.75072053,\n",
       "        1.4926134 ,  0.8363043 ,  0.8532893 ,  0.87144496,  0.97060533,\n",
       "       -0.20183403,  0.99131122,  0.99472837,  0.99825213,  0.99999325,\n",
       "        1.21570343,  0.98769965,  0.98591565,  0.9159044 ,  0.91406986,\n",
       "       -0.51669013,  0.8775346 ,  0.87063055,  0.86993408,  0.86523559,\n",
       "        0.37007575,  0.78464608,  0.63168655,  0.53722799,  0.45801971,\n",
       "        0.08075119,  0.43272116,  0.34115328,  0.26769953,  0.20730318,\n",
       "        1.34959235, -0.17645185, -0.20918837, -0.24990778, -0.28068224,\n",
       "       -1.63529379, -0.31247075, -0.31458595, -0.32442911, -0.34965155,\n",
       "       -0.29371122, -0.46921115, -0.56401144, -0.57215326, -0.57488849,\n",
       "       -0.95586361, -0.75923066, -0.78043659, -0.85808859, -0.94589863,\n",
       "       -0.6730775 , -0.94870673, -0.97149093, -0.98097408, -0.98568417,\n",
       "       -0.20828128, -0.99994398, -0.99703245, -0.99170146, -0.9732277 ])"
      ]
     },
     "execution_count": 55,
     "metadata": {},
     "output_type": "execute_result"
    }
   ],
   "source": [
    "y"
   ]
  },
  {
   "cell_type": "code",
   "execution_count": 56,
   "metadata": {},
   "outputs": [
    {
     "data": {
      "image/png": "[encoded data removed]",
      "text/plain": [
       "<Figure size 432x288 with 1 Axes>"
      ]
     },
     "metadata": {
      "needs_background": "light"
     },
     "output_type": "display_data"
    }
   ],
   "source": [
    "plt.scatter(X,y,s=20,edgecolor=\"black\",c=\"darkorange\",label=\"data\")\n",
    "plt.legend()\n",
    "plt.show()"
   ]
  },
  {
   "cell_type": "code",
   "execution_count": 57,
   "metadata": {},
   "outputs": [
    {
     "data": {
      "text/plain": [
       "DecisionTreeRegressor(criterion='mse', max_depth=5, max_features=None,\n",
       "                      max_leaf_nodes=None, min_impurity_decrease=0.0,\n",
       "                      min_impurity_split=None, min_samples_leaf=1,\n",
       "                      min_samples_split=2, min_weight_fraction_leaf=0.0,\n",
       "                      presort=False, random_state=None, splitter='best')"
      ]
     },
     "execution_count": 57,
     "metadata": {},
     "output_type": "execute_result"
    }
   ],
   "source": [
    "Reg_Tree_depth2 = DecisionTreeRegressor(max_depth = 2)\n",
    "Reg_Tree_depth5 = DecisionTreeRegressor(max_depth = 5)\n",
    "Reg_Tree_depth2.fit(X,y)\n",
    "Reg_Tree_depth5.fit(X,y)"
   ]
  },
  {
   "cell_type": "code",
   "execution_count": 66,
   "metadata": {},
   "outputs": [],
   "source": [
    "#生成測試集，並將其reshape作為二維的一行的二維矩陣\n",
    "X_test = np.arange(0.0,5.0,0.01)[:,np.newaxis]"
   ]
  },
  {
   "cell_type": "code",
   "execution_count": 68,
   "metadata": {},
   "outputs": [],
   "source": [
    "depth2_y_Predict = Reg_Tree_depth2.predict(X_test)\n",
    "depth5_y_Predict = Reg_Tree_depth5.predict(X_test)"
   ]
  },
  {
   "cell_type": "code",
   "execution_count": 76,
   "metadata": {},
   "outputs": [
    {
     "data": {
      "image/png": "[encoded data removed]",
      "text/plain": [
       "<Figure size 432x288 with 1 Axes>"
      ]
     },
     "metadata": {
      "needs_background": "light"
     },
     "output_type": "display_data"
    }
   ],
   "source": [
    "plt.figure()\n",
    "plt.scatter(X,y,s=20,edgecolor=\"black\",c=\"darkorange\",label=\"data\")\n",
    "plt.plot(X_test,depth2_y_Predict,label=\"depth=2\",linewidth=1)\n",
    "plt.plot(X_test,depth5_y_Predict,label=\"depth=5\",linewidth=1)\n",
    "plt.xlabel(\"x_value\")\n",
    "plt.ylabel(\"predict\")\n",
    "plt.title(\"Diffrent depth of RegTree\")\n",
    "plt.legend()\n",
    "plt.show()"
   ]
  },
  {
   "cell_type": "code",
   "execution_count": null,
   "metadata": {},
   "outputs": [],
   "source": []
  }
 ],
 "metadata": {
  "kernelspec": {
   "display_name": "Python 3",
   "language": "python",
   "name": "python3"
  },
  "language_info": {
   "codemirror_mode": {
    "name": "ipython",
    "version": 3
   },
   "file_extension": ".py",
   "mimetype": "text/x-python",
   "name": "python",
   "nbconvert_exporter": "python",
   "pygments_lexer": "ipython3",
   "version": "3.7.3"
  }
 },
 "nbformat": 4,
 "nbformat_minor": 2
}
